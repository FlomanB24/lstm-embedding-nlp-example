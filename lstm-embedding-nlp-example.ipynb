{
  "nbformat": 4,
  "nbformat_minor": 0,
  "metadata": {
    "colab": {
      "provenance": []
    },
    "kernelspec": {
      "name": "python3",
      "display_name": "Python 3"
    },
    "language_info": {
      "name": "python"
    }
  },
  "cells": [
    {
      "cell_type": "markdown",
      "source": [
        "**Bagian 1: Inisialisasi dan Import Library**\n",
        "\n",
        "- Import TensorFlow dan Keras: Kami mengimpor TensorFlow dan modul Keras yang diperlukan. Embedding, LSTM, Dense, dan Input adalah lapisan-lapisan yang akan digunakan untuk membangun model.\n",
        "- Model: Modul Model dari Keras digunakan untuk menyusun dan mengkompilasi model neural network."
      ],
      "metadata": {
        "id": "fAeif3Jd9hye"
      }
    },
    {
      "cell_type": "code",
      "source": [
        "import tensorflow as tf\n",
        "from tensorflow.keras.layers import Embedding, LSTM, Dense, Input\n",
        "from tensorflow.keras.models import Model"
      ],
      "metadata": {
        "id": "yW7ngVr37ZAX"
      },
      "execution_count": null,
      "outputs": []
    },
    {
      "cell_type": "markdown",
      "source": [
        "**Bagian 2: Inisialisasi Embedding Layer**\n",
        "\n",
        "- Dimensi Embedding (d): Menentukan dimensi vektor embedding (dalam kasus ini 100).\n",
        "- Vocab Size: Menentukan ukuran kosakata, yaitu jumlah kata yang akan di-embed (dalam kasus ini 7000 kata).\n",
        "- Inisialisasi Embedding Layer: Membuat embedding layer dengan input berupa indeks kata (0 hingga 6999) dan output berupa vektor berdimensi 100. embeddings_initializer='uniform' menunjukkan bahwa vektor embedding diinisialisasi dengan distribusi uniform."
      ],
      "metadata": {
        "id": "RAMTnG0k93qt"
      }
    },
    {
      "cell_type": "code",
      "source": [
        "# Dimensi embedding dan jumlah kata/aspek\n",
        "dimensi = 100\n",
        "vocab_size = 7000\n",
        "\n",
        "# Inisialisasi embedding layer untuk kata-kata\n",
        "word_embedding_layer = Embedding(input_dim=vocab_size, output_dim=dimensi, embeddings_initializer='uniform')"
      ],
      "metadata": {
        "id": "l7mTvWg17a7m"
      },
      "execution_count": null,
      "outputs": []
    },
    {
      "cell_type": "markdown",
      "source": [
        "**Bagian 3: Input dan Embedding Kata-kata**\n",
        "- Input Kata-kata: Menentukan input layer dengan bentuk (None,) yang berarti panjang urutan kata bisa bervariasi, dan tipe data adalah integer.\n",
        "- Embedding Kata-kata: Menggunakan embedding layer untuk mengubah input kata-kata menjadi vektor embedding."
      ],
      "metadata": {
        "id": "sbJwdPQ5-Fg8"
      }
    },
    {
      "cell_type": "code",
      "source": [
        "# Input kata-kata\n",
        "word_input = Input(shape=(None,), dtype='int32')\n",
        "\n",
        "# Dapatkan embedding untuk kata-kata\n",
        "word_embeddings = word_embedding_layer(word_input)"
      ],
      "metadata": {
        "id": "zrGmFW0b7dNx"
      },
      "execution_count": null,
      "outputs": []
    },
    {
      "cell_type": "markdown",
      "source": [
        "**Bagian 4: Layer LSTM**\n",
        "- Definisi LSTM: Membuat layer LSTM dengan 128 unit. return_sequences=True menunjukkan bahwa LSTM akan mengembalikan seluruh urutan output, bukan hanya output pada waktu terakhir. return_state=True menunjukkan bahwa LSTM juga akan mengembalikan state tersembunyi dan state sel (tidak digunakan dalam contoh ini, sehingga diabaikan).\n",
        "- LSTM Output: Memproses embedding kata-kata menggunakan LSTM dan mengembalikan output urutan dari LSTM."
      ],
      "metadata": {
        "id": "6TgTp3RB-Prx"
      }
    },
    {
      "cell_type": "code",
      "source": [
        "# Definisikan LSTM\n",
        "lstm_layer = LSTM(128, return_sequences=True, return_state=True)\n",
        "lstm_output, _, _ = lstm_layer(word_embeddings)"
      ],
      "metadata": {
        "id": "7aVkR2tw7fEE"
      },
      "execution_count": null,
      "outputs": []
    },
    {
      "cell_type": "markdown",
      "source": [
        "**Bagian 5: Layer Klasifikasi**\n",
        "- Layer Dense: Membuat layer Dense dengan 1 unit output dan fungsi aktivasi sigmoid. Layer ini akan digunakan untuk memprediksi sentimen (positif atau negatif).\n",
        "- Prediksi Sentimen: Output dari LSTM diproses oleh layer Dense untuk menghasilkan prediksi sentimen."
      ],
      "metadata": {
        "id": "gOsSUXiS-Z52"
      }
    },
    {
      "cell_type": "code",
      "source": [
        "# Layer Dense untuk klasifikasi sentimen\n",
        "classification_layer = Dense(1, activation='sigmoid')\n",
        "\n",
        "# Prediksi sentimen\n",
        "sentiment_prediction = classification_layer(lstm_output)"
      ],
      "metadata": {
        "id": "6gQHrPJq9W7F"
      },
      "execution_count": null,
      "outputs": []
    },
    {
      "cell_type": "markdown",
      "source": [
        "**Bagian 6: Penyusunan dan Kompilasi Model**\n",
        "- Penyusunan Model: Membuat model Keras dengan input layer word_input dan output layer sentiment_prediction.\n",
        "Kompilasi Model: Mengkompilasi model dengan optimizer Adam, fungsi kerugian binary crossentropy, dan metrik akurasi.\n",
        "- Ringkasan Model: Menampilkan ringkasan model untuk memeriksa struktur dan parameter model."
      ],
      "metadata": {
        "id": "-LE59It2-jpH"
      }
    },
    {
      "cell_type": "code",
      "source": [
        "# Model untuk menghasilkan keluaran LSTM\n",
        "model = Model(inputs=word_input, outputs=sentiment_prediction)\n",
        "# Kompilasi model\n",
        "model.compile(optimizer='adam', loss='binary_crossentropy', metrics=['accuracy'])\n",
        "# Ringkasan model\n",
        "model.summary()"
      ],
      "metadata": {
        "id": "VjOKQt6e9Y22"
      },
      "execution_count": null,
      "outputs": []
    }
  ]
}